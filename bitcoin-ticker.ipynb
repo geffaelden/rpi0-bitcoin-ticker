{
 "cells": [
  {
   "cell_type": "code",
   "execution_count": 2,
   "metadata": {},
   "outputs": [],
   "source": [
    "from pycoingecko import CoinGeckoAPI\n",
    "from datetime import date\n",
    "from datetime import time\n",
    "from datetime import datetime\n",
    "import matplotlib.pyplot as plt\n",
    "from matplotlib.ticker import FuncFormatter\n",
    "from PIL import Image\n",
    "\n",
    "cg = CoinGeckoAPI()"
   ]
  },
  {
   "cell_type": "code",
   "execution_count": null,
   "metadata": {},
   "outputs": [],
   "source": []
  },
  {
   "cell_type": "code",
   "execution_count": 3,
   "metadata": {},
   "outputs": [],
   "source": [
    "now = datetime.now()\n",
    "if now.minute >= 30:\n",
    "    base = datetime.combine(date.today(),time(now.hour, 30))\n",
    "    base = int(base.timestamp())-86400\n",
    "else: \n",
    "    base = datetime.combine(date.today(),time(now.hour, 0))\n",
    "    base = int(base.timestamp())-86400+1800\n",
    "\n",
    "now = int(now.timestamp())\n",
    "\n",
    "prices = cg.get_coin_market_chart_range_by_id(id='bitcoin',vs_currency='usd',from_timestamp=base,to_timestamp=now)"
   ]
  },
  {
   "cell_type": "code",
   "execution_count": 4,
   "metadata": {},
   "outputs": [],
   "source": [
    "x = []\n",
    "y = []\n",
    "for price in prices['prices']:\n",
    "    x.append(price[0])\n",
    "    y.append(price[1])"
   ]
  },
  {
   "cell_type": "code",
   "execution_count": 6,
   "metadata": {},
   "outputs": [
    {
     "data": {
      "image/png": "[encoded data removed]",
      "text/plain": [
       "<Figure size 247x91 with 1 Axes>"
      ]
     },
     "metadata": {
      "needs_background": "light"
     },
     "output_type": "display_data"
    }
   ],
   "source": [
    "def thousands(x, pos):\n",
    "    'The two args are the value and tick position'\n",
    "    return '$%1.1fK' % (x*1e-3)\n",
    "\n",
    "formatter = FuncFormatter(thousands)\n",
    "\n",
    "fig, ax = plt.subplots(figsize=(1.9, .7),dpi=130)\n",
    "ax.yaxis.set_major_formatter(formatter)\n",
    "ax.tick_params(axis=\"y\", labelsize=6.4, width =.5)\n",
    "ax.spines['right'].set_visible(False)\n",
    "ax.spines['top'].set_visible(False)\n",
    "ax.spines['bottom'].set_linewidth(0.5)\n",
    "ax.spines['left'].set_linewidth(0.5)\n",
    "plt.plot(x, y, color='black', linewidth='.7')\n",
    "plt.xticks([])\n",
    "plt.show()\n",
    "fig.savefig('test.png',bbox_inches='tight')"
   ]
  },
  {
   "cell_type": "code",
   "execution_count": 7,
   "metadata": {},
   "outputs": [],
   "source": [
    "def read_image(path):\n",
    "    try:\n",
    "        image = Image.open(path)\n",
    "        return image\n",
    "    except Exception as e:\n",
    "        print(e)\n",
    "    \n",
    "image = read_image('test.png')"
   ]
  },
  {
   "cell_type": "code",
   "execution_count": 8,
   "metadata": {},
   "outputs": [],
   "source": [
    "w, h = image.size"
   ]
  },
  {
   "cell_type": "code",
   "execution_count": 10,
   "metadata": {},
   "outputs": [
    {
     "data": {
      "image/png": "[encoded data removed]",
      "text/plain": [
       "<PIL.PngImagePlugin.PngImageFile image mode=RGBA size=270x101 at 0x271BDDD4EE0>"
      ]
     },
     "execution_count": 10,
     "metadata": {},
     "output_type": "execute_result"
    }
   ],
   "source": [
    "image"
   ]
  },
  {
   "cell_type": "code",
   "execution_count": 19,
   "metadata": {},
   "outputs": [],
   "source": [
    "image.crop((14,9,w-15,h-15)).save('test.png')"
   ]
  },
  {
   "cell_type": "code",
   "execution_count": null,
   "metadata": {},
   "outputs": [],
   "source": []
  }
 ],
 "metadata": {
  "kernelspec": {
   "display_name": "Python 3",
   "language": "python",
   "name": "python3"
  },
  "language_info": {
   "codemirror_mode": {
    "name": "ipython",
    "version": 3
   },
   "file_extension": ".py",
   "mimetype": "text/x-python",
   "name": "python",
   "nbconvert_exporter": "python",
   "pygments_lexer": "ipython3",
   "version": "3.8.5"
  }
 },
 "nbformat": 4,
 "nbformat_minor": 4
}
